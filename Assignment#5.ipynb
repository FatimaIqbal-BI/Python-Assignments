{
 "cells": [
  {
   "cell_type": "code",
   "execution_count": 3,
   "metadata": {},
   "outputs": [
    {
     "name": "stdout",
     "output_type": "stream",
     "text": [
      "Input a number to compute the factiorial : 9\n",
      "362880\n"
     ]
    }
   ],
   "source": [
    "def factorial(num):\n",
    "    if num == 0:\n",
    "        return 1\n",
    "    else:\n",
    "        return num * factorial(num-1)\n",
    "num=int(input(\"Input a number to compute the factiorial : \"))\n",
    "print(factorial(num))"
   ]
  },
  {
   "cell_type": "code",
   "execution_count": 4,
   "metadata": {},
   "outputs": [
    {
     "name": "stdout",
     "output_type": "stream",
     "text": [
      "Original String :  Saylani welfare Trust \n",
      "No. of Upper case characters :  2\n",
      "No. of Lower case Characters :  17\n"
     ]
    }
   ],
   "source": [
    "def string_test(x):\n",
    "    y={\"UPPER_CASE\":0, \"LOWER_CASE\":0}\n",
    "    for z in x:\n",
    "        if z.isupper():\n",
    "           y[\"UPPER_CASE\"]+=1\n",
    "        elif z.islower():\n",
    "           y[\"LOWER_CASE\"]+=1\n",
    "        else:\n",
    "           pass\n",
    "    print (\"Original String : \", x)\n",
    "    print (\"No. of Upper case characters : \", y[\"UPPER_CASE\"])\n",
    "    print (\"No. of Lower case Characters : \", y[\"LOWER_CASE\"])\n",
    "\n",
    "string_test('Saylani welfare Trust ')"
   ]
  },
  {
   "cell_type": "code",
   "execution_count": 6,
   "metadata": {},
   "outputs": [
    {
     "name": "stdout",
     "output_type": "stream",
     "text": [
      "100 56 210 444 666 "
     ]
    }
   ],
   "source": [
    "list1 = [100, 23, 56, 210, 444, 415, 666, 493] \n",
    "\n",
    "for num in list1: \n",
    "      \n",
    "    if num % 2 == 0: \n",
    "        print(num, end = \" \")"
   ]
  },
  {
   "cell_type": "code",
   "execution_count": 7,
   "metadata": {},
   "outputs": [
    {
     "name": "stdout",
     "output_type": "stream",
     "text": [
      "yes\n"
     ]
    }
   ],
   "source": [
    "def isPalindrome(x): \n",
    " \n",
    "    rev = ''.join(reversed(x)) \n",
    "  \n",
    "\n",
    "    if (x == rev): \n",
    "        return True\n",
    "    return False\n",
    "  \n",
    "x = \"oppo\"\n",
    "answer = isPalindrome(x) \n",
    "  \n",
    "if (answer): \n",
    "    print(\"yes\") \n",
    "else: \n",
    "    print(\"No\")"
   ]
  },
  {
   "cell_type": "code",
   "execution_count": 1,
   "metadata": {},
   "outputs": [
    {
     "name": "stdout",
     "output_type": "stream",
     "text": [
      "Enter any number: 3\n",
      "3 is a prime number\n"
     ]
    }
   ],
   "source": [
    "number = int(input(\"Enter any number: \"))\n",
    "\n",
    "if number > 1:\n",
    "    for i in range(2, number):\n",
    "        if (number % i) == 0:\n",
    "            print(number, \"is not a prime number\")\n",
    "            break\n",
    "    else:\n",
    "        print(number, \"is a prime number\")\n",
    "\n",
    "else:\n",
    "    print(number, \"is not a prime number\")"
   ]
  },
  {
   "cell_type": "code",
   "execution_count": null,
   "metadata": {},
   "outputs": [
    {
     "name": "stdout",
     "output_type": "stream",
     "text": [
      "Enter your budget : 10000\n",
      "1.ADD\n",
      "2.EXIT\n",
      "Enter your choice : 1\n",
      "Enter product name : fruits\n",
      "Enter quantity : 3\n",
      "Enter price of the product : 500\n",
      "\n",
      "amount left 9500.0\n"
     ]
    }
   ],
   "source": [
    "while True:  \n",
    "    try: \n",
    "        bg = float(input(\"Enter your budget : \")) \n",
    "          \n",
    "        \n",
    "        s = bg  \n",
    "    except ValueError: \n",
    "        print(\"PRINT NUMBER AS A AMOUNT\") \n",
    "        continue\n",
    "    else: \n",
    "        break\n",
    "\n",
    "a ={\"name\":[], \"quant\":[], \"price\":[]} \n",
    "  \n",
    "b = list(a.values()) \n",
    "\n",
    "na = b[0] \n",
    "  \n",
    "\n",
    "qu = b[1] \n",
    "   \n",
    "pr = b[2] \n",
    "  \n",
    " \n",
    "while True: \n",
    "    try: \n",
    "        ch = int(input(\"1.ADD\\n2.EXIT\\nEnter your choice : \")) \n",
    "    except ValueError: \n",
    "        print(\"\\nERROR: Choose only digits from the given option\") \n",
    "        continue\n",
    "    else: \n",
    "      \n",
    "        if ch == 1 and s>0:        \n",
    "   \n",
    "                             \n",
    "            pn = input(\"Enter product name : \")  \n",
    "             \n",
    "            q = input(\"Enter quantity : \") \n",
    "        \n",
    "            p = float(input(\"Enter price of the product : \"))   \n",
    "  \n",
    "            if p>s: \n",
    "          \n",
    "                print(\"\\nCAN, T BUT THE PRODUCT\")  \n",
    "                continue\n",
    "  \n",
    "            else: \n",
    "              \n",
    "                if pn in na:   \n",
    "               \n",
    "                    ind = na.index(pn)   \n",
    "   \n",
    "                    qu.remove(qu[ind])  \n",
    "  \n",
    "                   \n",
    "                    pr.remove(pr[ind])   \n",
    "  \n",
    "                \n",
    "                    qu.insert(ind, q)    \n",
    "  \n",
    "                    \n",
    "                    pr.insert(ind, p)    \n",
    "  \n",
    "                    s = bg-sum(pr)    \n",
    "  \n",
    "                    print(\"\\namount left\", s) \n",
    "                else: \n",
    "                 \n",
    "                    na.append(pn)   \n",
    "   \n",
    "              \n",
    "                    qu.append(q)    \n",
    "  \n",
    "                    pr.append(p)     \n",
    "  \n",
    "                  \n",
    "                    s = bg-sum(pr)    \n",
    "  \n",
    "                    print(\"\\namount left\", s) \n",
    "  \n",
    "        elif s<= 0:  \n",
    "            print(\"\\nNO BUDGET\")  \n",
    "        else: \n",
    "            break \n",
    "  \n",
    "# will print amount left in variable 's' \n",
    "print(\"\\nAmount left : Rs.\", s)  \n",
    "  \n",
    "\n",
    "if s in pr:  \n",
    "\n",
    "    print(\"\\nAmount left can buy you a\", na[pr.index(s)])   \n",
    "  \n",
    "print(\"\\n\\n\\nGROCERY LIST\") \n",
    "\n",
    "for i in range(len(na)):  \n",
    "    print(na[i], qu[i], pr[i])"
   ]
  },
  {
   "cell_type": "code",
   "execution_count": null,
   "metadata": {},
   "outputs": [],
   "source": []
  }
 ],
 "metadata": {
  "kernelspec": {
   "display_name": "Python 3",
   "language": "python",
   "name": "python3"
  },
  "language_info": {
   "codemirror_mode": {
    "name": "ipython",
    "version": 3
   },
   "file_extension": ".py",
   "mimetype": "text/x-python",
   "name": "python",
   "nbconvert_exporter": "python",
   "pygments_lexer": "ipython3",
   "version": "3.7.4"
  }
 },
 "nbformat": 4,
 "nbformat_minor": 2
}
