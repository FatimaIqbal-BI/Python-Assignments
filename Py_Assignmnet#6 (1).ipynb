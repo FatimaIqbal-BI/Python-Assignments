{
 "cells": [
  {
   "cell_type": "code",
   "execution_count": 20,
   "metadata": {},
   "outputs": [
    {
     "name": "stdout",
     "output_type": "stream",
     "text": [
      "BayerischeFlugzeugwerke : Engine is  start\n",
      "BayerischeFlugzeugwerke : Car is in  move  position\n",
      "BMW M3 : Car is in  high speed  position\n",
      "BMW Z4 :  1 liter Fuel added in fuel tank\n",
      "BMW M5 :  1.5 liter Fuel added in fuel tank\n",
      "BMW X3 : Engine is  stop\n"
     ]
    }
   ],
   "source": [
    "#Q-5\n",
    "class Car():\n",
    "    #initiate Method constructor\n",
    "    def __init__(self,model,color,name,car_type,reg_no):\n",
    "        # 5 car attributes\n",
    "        self.model = model\n",
    "        self.color = color\n",
    "        self.name = name\n",
    "        self.car_type = car_type\n",
    "        self.reg_no = reg_no\n",
    "      # Method 1    \n",
    "    def drive(self,command):\n",
    "        print(self.name,\": Car is in \", command ,\" position\")\n",
    "      # Method 2\n",
    "    def fill_feul_tank(self,liter):\n",
    "        print(self.name,  \": \",liter ,\"Fuel added in fuel tank\")\n",
    "      # Method 3\n",
    "    def start_stop_engine(self,command):\n",
    "        print(self.name,\": Engine is \", command)\n",
    "\n",
    "    \n",
    "#instance / object 1\n",
    "car1 = Car('BMW','Black','BayerischeFlugzeugwerke','BMWs MINI','A356d')\n",
    "\n",
    "#instance / object 2\n",
    "\n",
    "car2 = Car('BMW','Black','BMW M3','Sports car','A357d')\n",
    "#instance / object 3\n",
    "\n",
    "car3 = Car('BMW','Black','BMW X3','Crossover SUV','A358d')\n",
    "#instance / object 4\n",
    "\n",
    "car4 = Car('BMW','Black','BMW Z4','Roadster','A359d')\n",
    "#instance / object 5\n",
    "\n",
    "car5 = Car('BMW','Black','BMW M5','Sedan','A350d')\n",
    "\n",
    "car1.start_stop_engine(\"start\")\n",
    "car1.drive(\"move\")\n",
    "car2.drive(\"high speed\")\n",
    "car4.fill_feul_tank(\"1 liter\")\n",
    "car5.fill_feul_tank(\"1.5 liter\")\n",
    "car3.start_stop_engine(\"stop\")"
   ]
  },
  {
   "cell_type": "markdown",
   "metadata": {},
   "source": [
    "Q-1 Define Object Oriented Programming Language?\n",
    "\n",
    "Object-oriented programming is a programming paradigm based on the concept of \"objects\", which can contain data, in the form of fields, and code, in the form of procedures. A feature of objects is an object's procedures that can access and often modify the data fields of the object with which they are associated.\n",
    "\n",
    "Q-2 List down the Benefits of OOP?\n",
    "1.\tModularity for easier troubleshooting. \n",
    "2.\tReuse of code through inheritance.\n",
    "3.\tFlexibility through polymorphism.\n",
    "4.\tEffective problem solving.\n",
    "\n",
    "Q-3 Differentiate between function and method?\n",
    "\n",
    "A function is a piece of code that is called by name. It can be passed data to operate on (i.e. the parameters) and can optionally return data (the return value). All data that is passed to a function is explicitly passed. A method is a piece of code that is called by a name that is associated with an object.\n",
    "\n",
    "Q-4 Define the following terms:\n",
    "1. Class\n",
    "2. Object\n",
    "3. Attribute\n",
    "4. Behavior\n",
    "\n",
    "\n",
    "A- CLASS: a class is an extensible program-code-template for creating objects, providing initial values for state (member variables) and implementations of behavior (member functions or methods). ... In these languages, a class that creates classes is called a metaclass.\n",
    "\n",
    "B- OBJECTS: objects are the things you think about first in designing a program and they are also the units of code that are eventually derived from the process. Each object is an instance of a particular class or subclass with the class's own methods or procedures and data variables.\n",
    "\n",
    "C- ATTRIBUTE: attribute is a changeable property or characteristic of some component of a program that can be set to different values.\n",
    "\n",
    "D-BEHAVIOR: The behavior of an object is defined by its methods, which are the functions and subroutines defined within the object class. Without class methods, a class would simply be a structure. Methods determine what type of functionality a class has, how it modifies its data, and its overall behavior.\n"
   ]
  }
 ],
 "metadata": {
  "kernelspec": {
   "display_name": "Python 3",
   "language": "python",
   "name": "python3"
  },
  "language_info": {
   "codemirror_mode": {
    "name": "ipython",
    "version": 3
   },
   "file_extension": ".py",
   "mimetype": "text/x-python",
   "name": "python",
   "nbconvert_exporter": "python",
   "pygments_lexer": "ipython3",
   "version": "3.7.4"
  }
 },
 "nbformat": 4,
 "nbformat_minor": 2
}
